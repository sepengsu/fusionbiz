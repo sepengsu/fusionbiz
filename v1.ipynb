{
 "cells": [
  {
   "cell_type": "code",
   "execution_count": 2,
   "id": "7e7f4686",
   "metadata": {},
   "outputs": [],
   "source": [
    "from preprocessor import LogPreprocessor\n",
    "log_file = \"./kor_logs/machine_data_kor.txt\"\n",
    "preprocessor = LogPreprocessor(log_file)\n",
    "text_output = preprocessor.format_blocks_as_text()\n",
    "\n",
    "# 저장 (TXT)\n",
    "output_txt_path = \"./processed_log.txt\"\n",
    "with open(output_txt_path, \"w\", encoding=\"utf-8\") as f:\n",
    "    f.write(text_output)"
   ]
  }
 ],
 "metadata": {
  "kernelspec": {
   "display_name": "venv",
   "language": "python",
   "name": "python3"
  },
  "language_info": {
   "codemirror_mode": {
    "name": "ipython",
    "version": 3
   },
   "file_extension": ".py",
   "mimetype": "text/x-python",
   "name": "python",
   "nbconvert_exporter": "python",
   "pygments_lexer": "ipython3",
   "version": "3.12.7"
  }
 },
 "nbformat": 4,
 "nbformat_minor": 5
}
